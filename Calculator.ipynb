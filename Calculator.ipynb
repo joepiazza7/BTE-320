{
  "nbformat": 4,
  "nbformat_minor": 0,
  "metadata": {
    "colab": {
      "provenance": [],
      "authorship_tag": "ABX9TyMcUQKBThqmEvkPWPvkVgdA",
      "include_colab_link": true
    },
    "kernelspec": {
      "name": "python3",
      "display_name": "Python 3"
    },
    "language_info": {
      "name": "python"
    }
  },
  "cells": [
    {
      "cell_type": "markdown",
      "metadata": {
        "id": "view-in-github",
        "colab_type": "text"
      },
      "source": [
        "<a href=\"https://colab.research.google.com/github/joepiazza7/BTE-320/blob/main/Calculator.ipynb\" target=\"_parent\"><img src=\"https://colab.research.google.com/assets/colab-badge.svg\" alt=\"Open In Colab\"/></a>"
      ]
    },
    {
      "cell_type": "code",
      "execution_count": 14,
      "metadata": {
        "id": "thcyBRwSicws",
        "colab": {
          "base_uri": "https://localhost:8080/"
        },
        "outputId": "47e06212-ff8b-4554-c32f-d68ba12eed1e"
      },
      "outputs": [
        {
          "name": "stdout",
          "output_type": "stream",
          "text": [
            "Enter the first number:  3\n",
            "Enter the second number:  4\n",
            "Enter the math sign (+, -, *, **, /, //, %):  -\n",
            "3.0 - 4.0 = -1.0\n",
            "Enter the first number:  4\n",
            "Enter the second number:  5\n",
            "Enter the math sign (+, -, *, **, /, //, %):  break\n"
          ]
        }
      ],
      "source": [
        "#Design a calculator:\n",
        "# the calculator once starts, cannot stop unless the user chooses to (hint: infinite loop)\n",
        "# Implement all numerical operators that we discussed (+, -, *, **, /, //, %)\n",
        "# The user has to provide the numbers and the desired operator from the keyboard; then, the calculator will display the result (use three separate calls to function input() for each one of the inputs)\n",
        "# Numbers: int or float, operator: str\n",
        "# The calculator stops if the user enters the word \"break\" instead if an operator; it skips an iteration if the user gives an operator that is not numerical (e.g, a boolean one)\n",
        "\n",
        "\n",
        "while True:\n",
        "  num1 = float(input(\"Enter the first number:  \"))\n",
        "  num2 = float(input(\"Enter the second number:  \"))\n",
        "  operator = input(\"Enter the math sign (+, -, *, **, /, //, %):  \")\n",
        "\n",
        "#if user input break (the loop terminates)\n",
        "  if operator == \"break\":\n",
        "    break\n",
        "\n",
        "  if operator == \"+\":\n",
        "    print(f'{num1} + {num2} = {num1 + num2}')\n",
        "  elif operator == \"-\":\n",
        "    print(f'{num1} - {num2} = {num1 - num2}')\n",
        "  elif operator == \"*\":\n",
        "    print(f'{num1} * {num2} = {num1 * num2}')\n",
        "  elif operator == \"**\":\n",
        "    print(f'{num1} ** {num2} = {num1 ** num2}')\n",
        "  elif operator == \"/\":\n",
        "    print(f'{num1} / {num2} = {num1 / num2}')\n",
        "  elif operator == \"//\":\n",
        "    print(f'{num1} // {num2} = {num1 // num2}')\n",
        "  elif operator == \"%\":\n",
        "    print(f'{num1} modulo {num2} = {int(num1) % int(num2)}')\n",
        "  else:\n",
        "    print('Invalid Operator ')"
      ]
    },
    {
      "cell_type": "code",
      "source": [],
      "metadata": {
        "id": "UEtP4JPprrsB"
      },
      "execution_count": null,
      "outputs": []
    }
  ]
}